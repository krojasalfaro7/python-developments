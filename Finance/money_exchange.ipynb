{
 "cells": [
  {
   "cell_type": "code",
   "execution_count": 2,
   "id": "8a582af7",
   "metadata": {},
   "outputs": [
    {
     "name": "stdout",
     "output_type": "stream",
     "text": [
      "{'ves': 50.15, 'usd': 2.2795, 'usd/ves': 22}\n",
      "{'ves': 125.375, 'usd': 5.015, 'usd/ves': 25}\n",
      "\n",
      " {'total_ves': 175.525, 'total_usd': 7.2945}\n"
     ]
    }
   ],
   "source": [
    "# import sys\n",
    "# from functools import reduce\n",
    "# sys.path.append(\"/home/kevin/Repository/python-developments/Finance\")\n",
    "from money_exchange import USD_VES_Exchange\n",
    "\n",
    "# Datos de entrada para el cambio\n",
    "# Rates\n",
    "USD_VES_BCV_RATE = 22\n",
    "USD_VES_MONITOR_RATE = 25\n",
    "\n",
    "# Commission PCT\n",
    "PAGO_MOVIL_COMISSION = 0.003\n",
    "\n",
    "# Exchange List\n",
    "exchange_list = list()\n",
    "\n",
    "exchange_1 = USD_VES_Exchange(rate=USD_VES_BCV_RATE, commission_pct=PAGO_MOVIL_COMISSION)\n",
    "exchange_1.ves_to_usd(ves_amount=50)\n",
    "exchange_list.append(exchange_1)\n",
    "\n",
    "exchange_2 = USD_VES_Exchange(rate=USD_VES_MONITOR_RATE, commission_pct=PAGO_MOVIL_COMISSION)\n",
    "exchange_2.usd_to_ves(usd_amount=5)\n",
    "exchange_list.append(exchange_2)\n",
    "\n",
    "all_total = dict(total_ves=0, total_usd=0)\n",
    "for exchange in exchange_list:\n",
    "    all_total['total_ves'] += exchange.get_all_currency_amount()['ves']['amount']\n",
    "    all_total['total_usd'] += exchange.get_all_currency_amount()['usd']['amount']\n",
    "    print({\n",
    "        'ves': exchange.get_all_currency_amount()['ves']['amount'],\n",
    "        'usd': exchange.get_all_currency_amount()['usd']['amount'],\n",
    "        'usd/ves': exchange.rate\n",
    "    })\n",
    "all_total['total_ves'] = round(all_total['total_ves'], 4)\n",
    "all_total['total_usd'] = round(all_total['total_usd'], 4)\n",
    "print('\\n',all_total)"
   ]
  },
  {
   "cell_type": "code",
   "execution_count": null,
   "id": "81872e7f",
   "metadata": {},
   "outputs": [],
   "source": []
  }
 ],
 "metadata": {
  "kernelspec": {
   "display_name": "Python 3",
   "language": "python",
   "name": "python3"
  },
  "language_info": {
   "codemirror_mode": {
    "name": "ipython",
    "version": 3
   },
   "file_extension": ".py",
   "mimetype": "text/x-python",
   "name": "python",
   "nbconvert_exporter": "python",
   "pygments_lexer": "ipython3",
   "version": "3.9.2"
  },
  "vscode": {
   "interpreter": {
    "hash": "31f2aee4e71d21fbe5cf8b01ff0e069b9275f58929596ceb00d14d90e3e16cd6"
   }
  }
 },
 "nbformat": 4,
 "nbformat_minor": 5
}
