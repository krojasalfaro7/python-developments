{
 "cells": [
  {
   "cell_type": "code",
   "execution_count": 38,
   "id": "8a582af7",
   "metadata": {},
   "outputs": [],
   "source": [
    "import sys\n",
    "sys.path.append(\"/home/kevin/Repository/python-developments/Finance\")\n",
    "\n",
    "from money_exchange import USD_VES_Exchange\n"
   ]
  },
  {
   "cell_type": "code",
   "execution_count": 36,
   "id": "9372c272",
   "metadata": {},
   "outputs": [
    {
     "name": "stdout",
     "output_type": "stream",
     "text": [
      "{'ves': 20.06, 'usd': 1.003, 'rate_usd_ves': 20}\n",
      "{'ves': 11033.0, 'usd': 501.5, 'rate_usd_ves': 22}\n",
      "{'total_ves': 11053.06, 'total_usd': 502.503}\n"
     ]
    }
   ],
   "source": [
    "#from functools import reduce\n",
    "# Datos de entrada para el cambio\n",
    "\n",
    "# Rates\n",
    "BCV_RATE_USD_VES = 20\n",
    "MONITOR_RATE_USD_VES = 22\n",
    "\n",
    "# Commission PCT\n",
    "PAGO_MOVIL_COMISSION = 0.003\n",
    "\n",
    "# Exchange List\n",
    "exchange_list = list()\n",
    "\n",
    "exchange_1 = USD_VES_Exchange(rate=BCV_RATE_USD_VES, commission_pct=PAGO_MOVIL_COMISSION)\n",
    "exchange_1.ves_to_usd(ves_amount=20)\n",
    "exchange_list.append(exchange_1)\n",
    "\n",
    "exchange_2 = USD_VES_Exchange(rate=MONITOR_RATE_USD_VES, commission_pct=PAGO_MOVIL_COMISSION)\n",
    "exchange_2.usd_to_ves(usd_amount=500)\n",
    "exchange_list.append(exchange_2)\n",
    "\n",
    "all_total = dict(total_ves=0, total_usd=0)\n",
    "for exchange in exchange_list:\n",
    "    all_total['total_ves'] += exchange.get_all_currency_amount()['ves']['amount']\n",
    "    all_total['total_usd'] += exchange.get_all_currency_amount()['usd']['amount']\n",
    "    print({\n",
    "        'ves': exchange.get_all_currency_amount()['ves']['amount'],\n",
    "        'usd': exchange.get_all_currency_amount()['usd']['amount'],\n",
    "        'rate_usd_ves': exchange.rate\n",
    "    })\n",
    "\n",
    "print(all_total)"
   ]
  },
  {
   "cell_type": "code",
   "execution_count": null,
   "id": "db3fa09c",
   "metadata": {
    "collapsed": true
   },
   "outputs": [],
   "source": []
  },
  {
   "cell_type": "code",
   "execution_count": null,
   "id": "81e091b4",
   "metadata": {},
   "outputs": [],
   "source": []
  }
 ],
 "metadata": {
  "kernelspec": {
   "display_name": "Python 3",
   "language": "python",
   "name": "python3"
  },
  "language_info": {
   "codemirror_mode": {
    "name": "ipython",
    "version": 3
   },
   "file_extension": ".py",
   "mimetype": "text/x-python",
   "name": "python",
   "nbconvert_exporter": "python",
   "pygments_lexer": "ipython3",
   "version": "3.9.2"
  },
  "vscode": {
   "interpreter": {
    "hash": "31f2aee4e71d21fbe5cf8b01ff0e069b9275f58929596ceb00d14d90e3e16cd6"
   }
  }
 },
 "nbformat": 4,
 "nbformat_minor": 5
}
