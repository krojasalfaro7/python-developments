{
 "cells": [
  {
   "cell_type": "code",
   "execution_count": 46,
   "id": "8a582af7",
   "metadata": {},
   "outputs": [],
   "source": [
    "# Calculadora para sacar de manera exacta la cantidad en bs a obtener dependiendo de la tasa de cambio y el monto en dolares\n",
    "# Cabe destacar que la mayoria de los cambios se realizan porque se requiere el equivalente en bs de un monto en dolares en particular\n",
    "\n",
    "class AmountResp:\n",
    "    \n",
    "    def __init__(self, usdt, total_enviar, total_recibir):\n",
    "\n",
    "        self.usdt = usdt\n",
    "        self.total_enviar = total_enviar\n",
    "        self.total_recibir = total_recibir\n",
    "    \n",
    "    def __str__(self):\n",
    "        return \"USDT a CAMBIAR: {usdt} \\nTOTAL a RECIBIR: {recibir} \\nTOTAL a ENVIAR {enviar}\".format(usdt=self.usdt,\n",
    "                                                                                                       recibir=self.total_recibir,\n",
    "                                                                                                       enviar=self.total_enviar)\n",
    "    \n",
    "def get_usdt2exchange(monto_usd: float, tasa: float, tasa_exchange: float, pago_movil: bool = False) -> AmountResp:\n",
    "    \"\"\"\n",
    "    Funcion que devuelve la cantidad de USDT a cambiar en el exchange \n",
    "    \"\"\"\n",
    "    total_bs = monto_usd*tasa\n",
    "    # Si se planea pagar con pago movil se adiciona dicha comision\n",
    "    if pago_movil:\n",
    "        total_bs *= 1.003\n",
    "    \n",
    "    amount_resp = AmountResp(total_enviar=31.54, total_recibir=30.121, usdt=434343.65)\n",
    "    return amount_resp\n",
    "\n"
   ]
  },
  {
   "cell_type": "code",
   "execution_count": 47,
   "id": "9372c272",
   "metadata": {},
   "outputs": [
    {
     "name": "stdout",
     "output_type": "stream",
     "text": [
      "USDT a CAMBIAR: 434343.65 \n",
      "TOTAL a RECIBIR: 30.121 \n",
      "TOTAL a ENVIAR 31.54\n"
     ]
    }
   ],
   "source": [
    "# Datos necesarios para el exchange\n",
    "\n",
    "print(get_usdt2exchange(20.0, 3000.00, 200.43, True))\n"
   ]
  },
  {
   "cell_type": "code",
   "execution_count": null,
   "id": "db3fa09c",
   "metadata": {
    "collapsed": true
   },
   "outputs": [],
   "source": []
  }
 ],
 "metadata": {
  "kernelspec": {
   "display_name": "Python 3",
   "language": "python",
   "name": "python3"
  },
  "language_info": {
   "codemirror_mode": {
    "name": "ipython",
    "version": 3
   },
   "file_extension": ".py",
   "mimetype": "text/x-python",
   "name": "python",
   "nbconvert_exporter": "python",
   "pygments_lexer": "ipython3",
   "version": "3.8.8"
  }
 },
 "nbformat": 4,
 "nbformat_minor": 5
}
