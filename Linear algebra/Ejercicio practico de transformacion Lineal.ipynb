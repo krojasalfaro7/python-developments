{
 "cells": [
  {
   "cell_type": "code",
   "execution_count": 1,
   "metadata": {},
   "outputs": [],
   "source": [
    "#Referencia: https://tecdigital.tec.ac.cr/revistamatematica/Secciones/Didactica_y_Software/RevistaDigital_BJimen%C3%A9z_V21_n1_2020/RevistaDigital_BJim%C3%A9nez_V21_n1_2020.pdf\n",
    "#Importando numpy y matplolib\n",
    "import numpy as np\n",
    "import matplotlib.pyplot as plt"
   ]
  },
  {
   "cell_type": "code",
   "execution_count": 158,
   "metadata": {
    "scrolled": true
   },
   "outputs": [],
   "source": [
    "#Lista de vectores que representa la letra \"E\" en el plano xy\n",
    "E = np.array([(0,0,1),\n",
    "              (3,0,1),\n",
    "              (3,1,1),\n",
    "              (1,1,1),\n",
    "              (1,2,1),\n",
    "              (2,2,1),\n",
    "              (2,3,1),\n",
    "              (1,3,1),\n",
    "              (1,4,1),\n",
    "              (3,4,1),\n",
    "              (3,5,1),\n",
    "              (0,5,1),\n",
    "              (0,0,1)])\n",
    "\n",
    "#Matrices de transformación\n",
    "\n",
    "# Matriz de Reflexión con respecto al eje x\n",
    "Refx = np.array([[1.,0, 0],[0,-1.,0],[0.,0.,1.]])\n",
    "\n",
    "# Matriz de Reflexión con respecto al eje y\n",
    "Refy = np.array([[-1.,0,0],[0,1.,0],[0.,0.,1.]])\n",
    "\n",
    "# Matriz de Rotación\n",
    "theta = np.pi/3 # Ángulo de rotación deseado ,en este caso usamos pi /3.\n",
    "R = np.array([[np.cos(theta),np.sin(theta),0.],[-np.sin(theta),np.cos(theta),0.],[0.,0.,1.]])\n",
    "\n",
    "# Matriz de cambio de escala\n",
    "s = 4 # Escalar\n",
    "S = np.array([[s,0,0.],[0.,s,0.],[0.,0.,1.]])\n",
    "\n",
    "# Matriz de deformación horizontal / vertical\n",
    "h = -1\n",
    "v = 2\n",
    "D = np.array([[1.,h,0.],[v,1.,0.],[0.,0.,1.]])\n",
    "\n",
    "# Matriz de traslación\n",
    "tx = -3\n",
    "ty = -5\n",
    "T = np.array([[1.,0,tx],[0,1.,ty],[0.,0.,1.]])"
   ]
  },
  {
   "cell_type": "code",
   "execution_count": 164,
   "metadata": {},
   "outputs": [
    {
     "data": {
      "text/plain": [
       "[<matplotlib.lines.Line2D at 0x7fd3e4500c90>]"
      ]
     },
     "execution_count": 164,
     "metadata": {},
     "output_type": "execute_result"
    },
    {
     "data": {
      "image/png": "[encoded data removed]",
      "text/plain": [
       "<Figure size 432x288 with 1 Axes>"
      ]
     },
     "metadata": {
      "needs_background": "light"
     },
     "output_type": "display_data"
    }
   ],
   "source": [
    "# Transformación y plot\n",
    "ax = plt.gca()\n",
    "\n",
    "# Transformación de Reflexión con respecto al eje x\n",
    "\n",
    "Ex = [] # Lista de primeras componentes\n",
    "Ey = [] # Lista de segundas componentes\n",
    "\n",
    "for row in E:\n",
    "    output_rown = Refx.dot(row) # Multiplicación de la matriz por el punto respectivo\n",
    "    x,y,z = output_rown # Coordenadas ya transformadas\n",
    "    #Se guardan las coordenadas\n",
    "    Ex.append(x) \n",
    "    Ey.append(y)\n",
    "    \n",
    "    \n",
    "plt.plot(E[:,0], E[:,1], color=\"blue\") # grafica de E sin transformar\n",
    "plt.plot(Ex, Ey, color=\"Red\") # grafica de E con transformada"
   ]
  },
  {
   "cell_type": "code",
   "execution_count": 166,
   "metadata": {},
   "outputs": [
    {
     "data": {
      "text/plain": [
       "[<matplotlib.lines.Line2D at 0x7fd3e44585d0>]"
      ]
     },
     "execution_count": 166,
     "metadata": {},
     "output_type": "execute_result"
    },
    {
     "data": {
      "image/png": "[encoded data removed]",
      "text/plain": [
       "<Figure size 432x288 with 1 Axes>"
      ]
     },
     "metadata": {
      "needs_background": "light"
     },
     "output_type": "display_data"
    }
   ],
   "source": [
    "# Transformación de Reflexión con respecto al eje y\n",
    "\n",
    "Ex = [] # Lista de primeras componentes\n",
    "Ey = [] # Lista de segundas componentes\n",
    "\n",
    "for row in E:\n",
    "    output_rown = Refy.dot(row) # Multiplicación de la matriz por el punto respectivo\n",
    "    x,y,z = output_rown # Coordenadas ya transformadas\n",
    "    #Se guardan las coordenadas\n",
    "    Ex.append(x) \n",
    "    Ey.append(y)\n",
    "    \n",
    "plt.plot(E[:,0], E[:,1], color=\"blue\") # grafica de E sin transformar\n",
    "plt.plot(Ex, Ey, color=\"Red\") # grafica de E con transformada"
   ]
  },
  {
   "cell_type": "code",
   "execution_count": 167,
   "metadata": {},
   "outputs": [
    {
     "data": {
      "text/plain": [
       "[<matplotlib.lines.Line2D at 0x7fd3e43ca1d0>]"
      ]
     },
     "execution_count": 167,
     "metadata": {},
     "output_type": "execute_result"
    },
    {
     "data": {
      "image/png": "[encoded data removed]",
      "text/plain": [
       "<Figure size 432x288 with 1 Axes>"
      ]
     },
     "metadata": {
      "needs_background": "light"
     },
     "output_type": "display_data"
    }
   ],
   "source": [
    "# Transformación de Rotación\n",
    "\n",
    "Ex = [] # Lista de primeras componentes\n",
    "Ey = [] # Lista de segundas componentes\n",
    "\n",
    "for row in E:\n",
    "    output_rown = R.dot(row) # Multiplicación de la matriz por el punto respectivo\n",
    "    x,y,z = output_rown # Coordenadas ya transformadas\n",
    "    #Se guardan las coordenadas\n",
    "    Ex.append(x) \n",
    "    Ey.append(y)\n",
    "    \n",
    "plt.plot(E[:,0], E[:,1], color=\"blue\") # grafica de E sin transformar\n",
    "plt.plot(Ex, Ey, color=\"Red\") # grafica de E con transformada"
   ]
  },
  {
   "cell_type": "code",
   "execution_count": 168,
   "metadata": {},
   "outputs": [
    {
     "data": {
      "text/plain": [
       "[<matplotlib.lines.Line2D at 0x7fd3e4337990>]"
      ]
     },
     "execution_count": 168,
     "metadata": {},
     "output_type": "execute_result"
    },
    {
     "data": {
      "image/png": "[encoded data removed]",
      "text/plain": [
       "<Figure size 432x288 with 1 Axes>"
      ]
     },
     "metadata": {
      "needs_background": "light"
     },
     "output_type": "display_data"
    }
   ],
   "source": [
    "Transformación# Matriz de cambio de escala\n",
    "\n",
    "Ex = [] # Lista de primeras componentes\n",
    "Ey = [] # Lista de segundas componentes\n",
    "\n",
    "for row in E:\n",
    "    output_rown = S.dot(row) # Multiplicación de la matriz por el punto respectivo\n",
    "    x,y,z = output_rown # Coordenadas ya transformadas\n",
    "    #Se guardan las coordenadas\n",
    "    Ex.append(x) \n",
    "    Ey.append(y)\n",
    "    \n",
    "plt.plot(E[:,0], E[:,1], color=\"blue\") # grafica de E sin transformar\n",
    "plt.plot(Ex, Ey, color=\"Red\") # grafica de E con transformada"
   ]
  },
  {
   "cell_type": "code",
   "execution_count": 169,
   "metadata": {},
   "outputs": [
    {
     "data": {
      "text/plain": [
       "[<matplotlib.lines.Line2D at 0x7fd3e42afa50>]"
      ]
     },
     "execution_count": 169,
     "metadata": {},
     "output_type": "execute_result"
    },
    {
     "data": {
      "image/png": "[encoded data removed]",
      "text/plain": [
       "<Figure size 432x288 with 1 Axes>"
      ]
     },
     "metadata": {
      "needs_background": "light"
     },
     "output_type": "display_data"
    }
   ],
   "source": [
    "# Matriz de deformación horizontal / vertical\n",
    "\n",
    "Ex = [] # Lista de primeras componentes\n",
    "Ey = [] # Lista de segundas componentes\n",
    "\n",
    "for row in E:\n",
    "    output_rown = D.dot(row) # Multiplicación de la matriz por el punto respectivo\n",
    "    x,y,z = output_rown # Coordenadas ya transformadas\n",
    "    #Se guardan las coordenadas\n",
    "    Ex.append(x) \n",
    "    Ey.append(y)\n",
    "    \n",
    "plt.plot(E[:,0], E[:,1], color=\"blue\") # grafica de E sin transformar\n",
    "plt.plot(Ex, Ey, color=\"Red\") # grafica de E con transformada"
   ]
  },
  {
   "cell_type": "code",
   "execution_count": 170,
   "metadata": {},
   "outputs": [
    {
     "data": {
      "text/plain": [
       "[<matplotlib.lines.Line2D at 0x7fd3e422b2d0>]"
      ]
     },
     "execution_count": 170,
     "metadata": {},
     "output_type": "execute_result"
    },
    {
     "data": {
      "image/png": "[encoded data removed]",
      "text/plain": [
       "<Figure size 432x288 with 1 Axes>"
      ]
     },
     "metadata": {
      "needs_background": "light"
     },
     "output_type": "display_data"
    }
   ],
   "source": [
    "# Matriz de traslación\n",
    "\n",
    "Ex = [] # Lista de primeras componentes\n",
    "Ey = [] # Lista de segundas componentes\n",
    "\n",
    "for row in E:\n",
    "    output_rown = T.dot(row) # Multiplicación de la matriz por el punto respectivo\n",
    "    x,y,z = output_rown # Coordenadas ya transformadas\n",
    "    #Se guardan las coordenadas\n",
    "    Ex.append(x) \n",
    "    Ey.append(y)\n",
    "    \n",
    "plt.plot(E[:,0], E[:,1], color=\"blue\") # grafica de E sin transformar\n",
    "plt.plot(Ex, Ey, color=\"Red\") # grafica de E con transformada"
   ]
  },
  {
   "cell_type": "code",
   "execution_count": null,
   "metadata": {},
   "outputs": [],
   "source": []
  },
  {
   "cell_type": "code",
   "execution_count": null,
   "metadata": {},
   "outputs": [],
   "source": []
  }
 ],
 "metadata": {
  "kernelspec": {
   "display_name": "Python 3",
   "language": "python",
   "name": "python3"
  },
  "language_info": {
   "codemirror_mode": {
    "name": "ipython",
    "version": 3
   },
   "file_extension": ".py",
   "mimetype": "text/x-python",
   "name": "python",
   "nbconvert_exporter": "python",
   "pygments_lexer": "ipython3",
   "version": "3.8.3"
  }
 },
 "nbformat": 4,
 "nbformat_minor": 4
}
